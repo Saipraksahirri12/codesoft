{
  "nbformat": 4,
  "nbformat_minor": 0,
  "metadata": {
    "colab": {
      "provenance": []
    },
    "kernelspec": {
      "name": "python3",
      "display_name": "Python 3"
    },
    "language_info": {
      "name": "python"
    }
  },
  "cells": [
    {
      "cell_type": "markdown",
      "source": [
        "Data Loading and Exploration"
      ],
      "metadata": {
        "id": "a6bqCmfntJp6"
      }
    },
    {
      "cell_type": "code",
      "source": [
        "import pandas as pd\n",
        "\n",
        "# Load the dataset, specifying the encoding\n",
        "movie_data = pd.read_csv('/content/IMDb Movies India.csv', encoding='latin-1') # Try 'latin-1' encoding. If it doesn't work, experiment with other encodings like 'iso-8859-1'.\n",
        "\n",
        "# Display the first few rows of the dataset\n",
        "print(movie_data.head())"
      ],
      "metadata": {
        "colab": {
          "base_uri": "https://localhost:8080/"
        },
        "id": "gCsAnB94q3dQ",
        "outputId": "cc5e61b8-5ee2-47cf-f5c0-6f28879369bd"
      },
      "execution_count": 4,
      "outputs": [
        {
          "output_type": "stream",
          "name": "stdout",
          "text": [
            "                                 Name    Year Duration            Genre  \\\n",
            "0                                         NaN      NaN            Drama   \n",
            "1  #Gadhvi (He thought he was Gandhi)  (2019)  109 min            Drama   \n",
            "2                         #Homecoming  (2021)   90 min   Drama, Musical   \n",
            "3                             #Yaaram  (2019)  110 min  Comedy, Romance   \n",
            "4                   ...And Once Again  (2010)  105 min            Drama   \n",
            "\n",
            "   Rating Votes            Director       Actor 1             Actor 2  \\\n",
            "0     NaN   NaN       J.S. Randhawa      Manmauji              Birbal   \n",
            "1     7.0     8       Gaurav Bakshi  Rasika Dugal      Vivek Ghamande   \n",
            "2     NaN   NaN  Soumyajit Majumdar  Sayani Gupta   Plabita Borthakur   \n",
            "3     4.4    35          Ovais Khan       Prateik          Ishita Raj   \n",
            "4     NaN   NaN        Amol Palekar  Rajat Kapoor  Rituparna Sengupta   \n",
            "\n",
            "           Actor 3  \n",
            "0  Rajendra Bhatia  \n",
            "1    Arvind Jangid  \n",
            "2       Roy Angana  \n",
            "3  Siddhant Kapoor  \n",
            "4      Antara Mali  \n"
          ]
        }
      ]
    },
    {
      "cell_type": "markdown",
      "source": [
        "Data Preprocessing"
      ],
      "metadata": {
        "id": "bpnpDNNftSOE"
      }
    },
    {
      "cell_type": "code",
      "source": [
        "from sklearn.preprocessing import LabelEncoder\n",
        "from sklearn.model_selection import train_test_split\n",
        "from sklearn.linear_model import LinearRegression\n",
        "from sklearn.metrics import mean_squared_error\n",
        "\n",
        "# Handle missing values (example: filling missing values with mode)\n",
        "movie_data.fillna(movie_data.mode().iloc[0], inplace=True)\n",
        "\n",
        "# Encode categorical variables\n",
        "label_encoder = LabelEncoder()\n",
        "movie_data['Genre'] = label_encoder.fit_transform(movie_data['Genre'])\n",
        "movie_data['Director'] = label_encoder.fit_transform(movie_data['Director'])\n",
        "\n",
        "# Assuming you want to encode 'Actor 1', 'Actor 2', and 'Actor 3' separately:\n",
        "movie_data['Actor 1'] = label_encoder.fit_transform(movie_data['Actor 1'])\n",
        "movie_data['Actor 2'] = label_encoder.fit_transform(movie_data['Actor 2'])\n",
        "movie_data['Actor 3'] = label_encoder.fit_transform(movie_data['Actor 3'])\n",
        "\n",
        "# Select features and target variable\n",
        "# Include all actor columns in the features\n",
        "features = ['Genre', 'Director', 'Actor 1', 'Actor 2', 'Actor 3']\n",
        "X = movie_data[features]  # Select the features using a list of column names\n",
        "y = movie_data['Rating']"
      ],
      "metadata": {
        "id": "dYb4Vgc5s4_r"
      },
      "execution_count": 14,
      "outputs": []
    },
    {
      "cell_type": "code",
      "source": [
        "# Extract year from release date if available\n",
        "# Remove parentheses and convert to numeric\n",
        "movie_data['Year'] = movie_data['Year'].str.replace(r'[()]', '', regex=True).astype(float)\n",
        "movie_data['release_year'] = pd.to_datetime(movie_data['Year'], format='%Y').dt.year"
      ],
      "metadata": {
        "id": "8ts8fLj8vAhJ"
      },
      "execution_count": 19,
      "outputs": []
    },
    {
      "cell_type": "code",
      "source": [
        "# Select features and target variable\n",
        "features = ['Genre', 'Director', 'Actor 1', 'Actor 2', 'Actor 3', 'release_year']\n",
        "X = movie_data[features]\n",
        "y = movie_data['Rating']\n"
      ],
      "metadata": {
        "id": "SDb83ENM1Hs1"
      },
      "execution_count": 22,
      "outputs": []
    },
    {
      "cell_type": "markdown",
      "source": [
        "Model Training"
      ],
      "metadata": {
        "id": "6zfvCJh6tUoa"
      }
    },
    {
      "cell_type": "code",
      "source": [
        "from sklearn.model_selection import train_test_split\n",
        "from sklearn.ensemble import RandomForestRegressor\n",
        "\n",
        "# Split the data into training and test sets\n",
        "X_train, X_test, y_train, y_test = train_test_split(X, y, test_size=0.2, random_state=42)\n",
        "\n",
        "# Train the model\n",
        "model = RandomForestRegressor(n_estimators=100, random_state=42)\n",
        "model.fit(X_train, y_train)\n",
        "\n",
        "# Make predictions\n",
        "y_pred = model.predict(X_test)\n"
      ],
      "metadata": {
        "id": "V9Y7q5MN1sE4"
      },
      "execution_count": 23,
      "outputs": []
    },
    {
      "cell_type": "markdown",
      "source": [
        "Model Evaluation"
      ],
      "metadata": {
        "id": "MpL8JGZytihd"
      }
    },
    {
      "cell_type": "code",
      "source": [
        "from sklearn.metrics import mean_squared_error, r2_score\n",
        "\n",
        "# Mean Squared Error\n",
        "mse = mean_squared_error(y_test, y_pred)\n",
        "print(f'Mean Squared Error: {mse}')\n",
        "\n",
        "# R-squared Score\n",
        "r2 = r2_score(y_test, y_pred)\n",
        "print(f'R-squared Score: {r2}')\n"
      ],
      "metadata": {
        "colab": {
          "base_uri": "https://localhost:8080/"
        },
        "id": "zMBdG1Ay16-j",
        "outputId": "e4e35bb3-25cb-414d-9077-7b353f2ea197"
      },
      "execution_count": 24,
      "outputs": [
        {
          "output_type": "stream",
          "name": "stdout",
          "text": [
            "Mean Squared Error: 0.8796762509468218\n",
            "R-squared Score: 0.12284186932722085\n"
          ]
        }
      ]
    }
  ]
}