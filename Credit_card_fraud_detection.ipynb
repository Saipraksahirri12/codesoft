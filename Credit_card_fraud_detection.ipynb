{
  "nbformat": 4,
  "nbformat_minor": 0,
  "metadata": {
    "colab": {
      "provenance": []
    },
    "kernelspec": {
      "name": "python3",
      "display_name": "Python 3"
    },
    "language_info": {
      "name": "python"
    }
  },
  "cells": [
    {
      "cell_type": "code",
      "execution_count": 2,
      "metadata": {
        "colab": {
          "base_uri": "https://localhost:8080/"
        },
        "id": "Qutjrz6v9ML7",
        "outputId": "848eb089-e215-4b99-dd1c-bef868b0d113"
      },
      "outputs": [
        {
          "output_type": "stream",
          "name": "stdout",
          "text": [
            "   Time        V1        V2        V3        V4        V5        V6        V7  \\\n",
            "0     0 -1.359807 -0.072781  2.536347  1.378155 -0.338321  0.462388  0.239599   \n",
            "1     0  1.191857  0.266151  0.166480  0.448154  0.060018 -0.082361 -0.078803   \n",
            "2     1 -1.358354 -1.340163  1.773209  0.379780 -0.503198  1.800499  0.791461   \n",
            "3     1 -0.966272 -0.185226  1.792993 -0.863291 -0.010309  1.247203  0.237609   \n",
            "4     2 -1.158233  0.877737  1.548718  0.403034 -0.407193  0.095921  0.592941   \n",
            "\n",
            "         V8        V9  ...       V21       V22       V23       V24       V25  \\\n",
            "0  0.098698  0.363787  ... -0.018307  0.277838 -0.110474  0.066928  0.128539   \n",
            "1  0.085102 -0.255425  ... -0.225775 -0.638672  0.101288 -0.339846  0.167170   \n",
            "2  0.247676 -1.514654  ...  0.247998  0.771679  0.909412 -0.689281 -0.327642   \n",
            "3  0.377436 -1.387024  ... -0.108300  0.005274 -0.190321 -1.175575  0.647376   \n",
            "4 -0.270533  0.817739  ... -0.009431  0.798278 -0.137458  0.141267 -0.206010   \n",
            "\n",
            "        V26       V27       V28  Amount  Class  \n",
            "0 -0.189115  0.133558 -0.021053  149.62    0.0  \n",
            "1  0.125895 -0.008983  0.014724    2.69    0.0  \n",
            "2 -0.139097 -0.055353 -0.059752  378.66    0.0  \n",
            "3 -0.221929  0.062723  0.061458  123.50    0.0  \n",
            "4  0.502292  0.219422  0.215153   69.99    0.0  \n",
            "\n",
            "[5 rows x 31 columns]\n",
            "               Time           V1           V2           V3           V4  \\\n",
            "count   7973.000000  7973.000000  7973.000000  7973.000000  7973.000000   \n",
            "mean    4257.151261    -0.299740     0.295226     0.899355     0.215736   \n",
            "std     3198.964299     1.498341     1.283914     1.090297     1.447057   \n",
            "min        0.000000   -23.066842   -25.640527   -12.389545    -4.657545   \n",
            "25%     1531.000000    -1.046362    -0.237359     0.372435    -0.687521   \n",
            "50%     3635.000000    -0.416341     0.335446     0.948695     0.223379   \n",
            "75%     6662.000000     1.122758     0.950582     1.597949     1.131542   \n",
            "max    10981.000000     1.685314     8.261750     4.101716     7.380245   \n",
            "\n",
            "                V5           V6           V7           V8           V9  ...  \\\n",
            "count  7973.000000  7973.000000  7973.000000  7973.000000  7973.000000  ...   \n",
            "mean     -0.025285     0.157286    -0.026445    -0.070525     0.655244  ...   \n",
            "std       1.167218     1.325015     1.063709     1.332568     1.156618  ...   \n",
            "min     -32.092129    -7.574798   -12.968670   -23.632502    -3.878658  ...   \n",
            "25%      -0.630525    -0.655399    -0.517733    -0.199794    -0.085635  ...   \n",
            "50%      -0.107337    -0.148669     0.004732     0.016128     0.613170  ...   \n",
            "75%       0.405082     0.555200     0.527353     0.307111     1.294087  ...   \n",
            "max      11.974269    21.393069    34.303177     3.877662    10.392889  ...   \n",
            "\n",
            "               V21          V22          V23          V24          V25  \\\n",
            "count  7972.000000  7972.000000  7972.000000  7972.000000  7972.000000   \n",
            "mean     -0.053715    -0.165799    -0.035174     0.025977     0.088893   \n",
            "std       0.953498     0.654858     0.488322     0.601760     0.427505   \n",
            "min     -11.468435    -8.527145   -15.144340    -2.512377    -2.577363   \n",
            "25%      -0.271837    -0.581473    -0.182989    -0.340419    -0.161009   \n",
            "50%      -0.130344    -0.167048    -0.046107     0.089606     0.115418   \n",
            "75%       0.044823     0.250886     0.086806     0.421015     0.361249   \n",
            "max      22.588989     4.534454    13.876221     3.200201     5.525093   \n",
            "\n",
            "               V26          V27          V28       Amount        Class  \n",
            "count  7972.000000  7972.000000  7972.000000  7972.000000  7972.000000  \n",
            "mean      0.020256     0.016150     0.001161    65.413540     0.003136  \n",
            "std       0.517409     0.403570     0.275976   194.911169     0.055915  \n",
            "min      -1.338556    -7.976100    -3.054085     0.000000     0.000000  \n",
            "25%      -0.363180    -0.063198    -0.019081     4.617500     0.000000  \n",
            "50%      -0.015260     0.007101     0.018443    15.950000     0.000000  \n",
            "75%       0.329322     0.144700     0.080563    54.910000     0.000000  \n",
            "max       3.517346     4.173387     4.860769  7712.430000     1.000000  \n",
            "\n",
            "[8 rows x 31 columns]\n",
            "<class 'pandas.core.frame.DataFrame'>\n",
            "RangeIndex: 7973 entries, 0 to 7972\n",
            "Data columns (total 31 columns):\n",
            " #   Column  Non-Null Count  Dtype  \n",
            "---  ------  --------------  -----  \n",
            " 0   Time    7973 non-null   int64  \n",
            " 1   V1      7973 non-null   float64\n",
            " 2   V2      7973 non-null   float64\n",
            " 3   V3      7973 non-null   float64\n",
            " 4   V4      7973 non-null   float64\n",
            " 5   V5      7973 non-null   float64\n",
            " 6   V6      7973 non-null   float64\n",
            " 7   V7      7973 non-null   float64\n",
            " 8   V8      7973 non-null   float64\n",
            " 9   V9      7973 non-null   float64\n",
            " 10  V10     7973 non-null   float64\n",
            " 11  V11     7973 non-null   float64\n",
            " 12  V12     7973 non-null   float64\n",
            " 13  V13     7973 non-null   float64\n",
            " 14  V14     7973 non-null   float64\n",
            " 15  V15     7972 non-null   float64\n",
            " 16  V16     7972 non-null   float64\n",
            " 17  V17     7972 non-null   float64\n",
            " 18  V18     7972 non-null   float64\n",
            " 19  V19     7972 non-null   float64\n",
            " 20  V20     7972 non-null   float64\n",
            " 21  V21     7972 non-null   float64\n",
            " 22  V22     7972 non-null   float64\n",
            " 23  V23     7972 non-null   float64\n",
            " 24  V24     7972 non-null   float64\n",
            " 25  V25     7972 non-null   float64\n",
            " 26  V26     7972 non-null   float64\n",
            " 27  V27     7972 non-null   float64\n",
            " 28  V28     7972 non-null   float64\n",
            " 29  Amount  7972 non-null   float64\n",
            " 30  Class   7972 non-null   float64\n",
            "dtypes: float64(30), int64(1)\n",
            "memory usage: 1.9 MB\n",
            "None\n"
          ]
        }
      ],
      "source": [
        "import pandas as pd\n",
        "\n",
        "# Load the dataset\n",
        "credit_card_data = pd.read_csv('/content/creditcard.csv')\n",
        "\n",
        "# Display the first few rows of the dataset\n",
        "print(credit_card_data.head())\n",
        "\n",
        "# Display basic statistics\n",
        "print(credit_card_data.describe())\n",
        "\n",
        "# Display information about data types and missing values\n",
        "print(credit_card_data.info())\n"
      ]
    },
    {
      "cell_type": "code",
      "source": [
        "import pandas as pd\n",
        "from sklearn.preprocessing import StandardScaler\n",
        "from imblearn.over_sampling import SMOTE\n",
        "from collections import Counter\n",
        "\n",
        "# Load the dataset\n",
        "credit_card_data = pd.read_csv('/content/creditcard.csv')\n",
        "\n",
        "# Normalize the 'Amount' column\n",
        "scaler = StandardScaler()\n",
        "credit_card_data['Amount'] = scaler.fit_transform(credit_card_data['Amount'].values.reshape(-1, 1))\n",
        "\n",
        "# Drop the 'Time' column as it might not be useful\n",
        "credit_card_data.drop(columns=['Time'], inplace=True)\n",
        "\n",
        "# --- BEGIN_SOLUTION ---\n",
        "# Check for missing values in the target variable and handle them\n",
        "print(credit_card_data['Class'].isnull().sum())  # Check the number of missing values\n",
        "\n",
        "# Option 1: Remove rows with missing target values\n",
        "credit_card_data.dropna(subset=['Class'], inplace=True)\n",
        "\n",
        "# Option 2: Impute missing values (e.g., with the most frequent value)\n",
        "# from sklearn.impute import SimpleImputer\n",
        "# imputer = SimpleImputer(strategy='most_frequent')\n",
        "# credit_card_data['Class'] = imputer.fit_transform(credit_card_data['Class'].values.reshape(-1, 1))\n",
        "# --- END_SOLUTION ---\n",
        "\n",
        "# Split the data into features and target variable\n",
        "X = credit_card_data.drop(columns=['Class'])\n",
        "y = credit_card_data['Class']\n",
        "\n",
        "# Apply SMOTE to balance the dataset\n",
        "smote = SMOTE(random_state=42)\n",
        "X_resampled, y_resampled = smote.fit_resample(X, y)\n",
        "\n",
        "# Display class distribution after resampling\n",
        "print('Resampled dataset shape:', Counter(y_resampled))"
      ],
      "metadata": {
        "colab": {
          "base_uri": "https://localhost:8080/"
        },
        "id": "C4vljE_5-sff",
        "outputId": "e6d9c0e0-4966-4b22-8fea-3feba66decd0"
      },
      "execution_count": 5,
      "outputs": [
        {
          "output_type": "stream",
          "name": "stdout",
          "text": [
            "1\n",
            "Resampled dataset shape: Counter({0.0: 25749, 1.0: 25749})\n"
          ]
        }
      ]
    },
    {
      "cell_type": "code",
      "source": [
        "from sklearn.model_selection import train_test_split\n",
        "from sklearn.ensemble import RandomForestClassifier\n",
        "\n",
        "# Split the data into training and test sets\n",
        "X_train, X_test, y_train, y_test = train_test_split(X_resampled, y_resampled, test_size=0.2, random_state=42)\n",
        "\n",
        "# Train the model\n",
        "model = RandomForestClassifier(n_estimators=100, random_state=42)\n",
        "model.fit(X_train, y_train)\n"
      ],
      "metadata": {
        "colab": {
          "base_uri": "https://localhost:8080/",
          "height": 75
        },
        "id": "9enRWjQ9Cy4z",
        "outputId": "4dca3652-2dfd-4687-cd79-fea0283af250"
      },
      "execution_count": 7,
      "outputs": [
        {
          "output_type": "execute_result",
          "data": {
            "text/plain": [
              "RandomForestClassifier(random_state=42)"
            ],
            "text/html": [
              "<style>#sk-container-id-1 {color: black;}#sk-container-id-1 pre{padding: 0;}#sk-container-id-1 div.sk-toggleable {background-color: white;}#sk-container-id-1 label.sk-toggleable__label {cursor: pointer;display: block;width: 100%;margin-bottom: 0;padding: 0.3em;box-sizing: border-box;text-align: center;}#sk-container-id-1 label.sk-toggleable__label-arrow:before {content: \"▸\";float: left;margin-right: 0.25em;color: #696969;}#sk-container-id-1 label.sk-toggleable__label-arrow:hover:before {color: black;}#sk-container-id-1 div.sk-estimator:hover label.sk-toggleable__label-arrow:before {color: black;}#sk-container-id-1 div.sk-toggleable__content {max-height: 0;max-width: 0;overflow: hidden;text-align: left;background-color: #f0f8ff;}#sk-container-id-1 div.sk-toggleable__content pre {margin: 0.2em;color: black;border-radius: 0.25em;background-color: #f0f8ff;}#sk-container-id-1 input.sk-toggleable__control:checked~div.sk-toggleable__content {max-height: 200px;max-width: 100%;overflow: auto;}#sk-container-id-1 input.sk-toggleable__control:checked~label.sk-toggleable__label-arrow:before {content: \"▾\";}#sk-container-id-1 div.sk-estimator input.sk-toggleable__control:checked~label.sk-toggleable__label {background-color: #d4ebff;}#sk-container-id-1 div.sk-label input.sk-toggleable__control:checked~label.sk-toggleable__label {background-color: #d4ebff;}#sk-container-id-1 input.sk-hidden--visually {border: 0;clip: rect(1px 1px 1px 1px);clip: rect(1px, 1px, 1px, 1px);height: 1px;margin: -1px;overflow: hidden;padding: 0;position: absolute;width: 1px;}#sk-container-id-1 div.sk-estimator {font-family: monospace;background-color: #f0f8ff;border: 1px dotted black;border-radius: 0.25em;box-sizing: border-box;margin-bottom: 0.5em;}#sk-container-id-1 div.sk-estimator:hover {background-color: #d4ebff;}#sk-container-id-1 div.sk-parallel-item::after {content: \"\";width: 100%;border-bottom: 1px solid gray;flex-grow: 1;}#sk-container-id-1 div.sk-label:hover label.sk-toggleable__label {background-color: #d4ebff;}#sk-container-id-1 div.sk-serial::before {content: \"\";position: absolute;border-left: 1px solid gray;box-sizing: border-box;top: 0;bottom: 0;left: 50%;z-index: 0;}#sk-container-id-1 div.sk-serial {display: flex;flex-direction: column;align-items: center;background-color: white;padding-right: 0.2em;padding-left: 0.2em;position: relative;}#sk-container-id-1 div.sk-item {position: relative;z-index: 1;}#sk-container-id-1 div.sk-parallel {display: flex;align-items: stretch;justify-content: center;background-color: white;position: relative;}#sk-container-id-1 div.sk-item::before, #sk-container-id-1 div.sk-parallel-item::before {content: \"\";position: absolute;border-left: 1px solid gray;box-sizing: border-box;top: 0;bottom: 0;left: 50%;z-index: -1;}#sk-container-id-1 div.sk-parallel-item {display: flex;flex-direction: column;z-index: 1;position: relative;background-color: white;}#sk-container-id-1 div.sk-parallel-item:first-child::after {align-self: flex-end;width: 50%;}#sk-container-id-1 div.sk-parallel-item:last-child::after {align-self: flex-start;width: 50%;}#sk-container-id-1 div.sk-parallel-item:only-child::after {width: 0;}#sk-container-id-1 div.sk-dashed-wrapped {border: 1px dashed gray;margin: 0 0.4em 0.5em 0.4em;box-sizing: border-box;padding-bottom: 0.4em;background-color: white;}#sk-container-id-1 div.sk-label label {font-family: monospace;font-weight: bold;display: inline-block;line-height: 1.2em;}#sk-container-id-1 div.sk-label-container {text-align: center;}#sk-container-id-1 div.sk-container {/* jupyter's `normalize.less` sets `[hidden] { display: none; }` but bootstrap.min.css set `[hidden] { display: none !important; }` so we also need the `!important` here to be able to override the default hidden behavior on the sphinx rendered scikit-learn.org. See: https://github.com/scikit-learn/scikit-learn/issues/21755 */display: inline-block !important;position: relative;}#sk-container-id-1 div.sk-text-repr-fallback {display: none;}</style><div id=\"sk-container-id-1\" class=\"sk-top-container\"><div class=\"sk-text-repr-fallback\"><pre>RandomForestClassifier(random_state=42)</pre><b>In a Jupyter environment, please rerun this cell to show the HTML representation or trust the notebook. <br />On GitHub, the HTML representation is unable to render, please try loading this page with nbviewer.org.</b></div><div class=\"sk-container\" hidden><div class=\"sk-item\"><div class=\"sk-estimator sk-toggleable\"><input class=\"sk-toggleable__control sk-hidden--visually\" id=\"sk-estimator-id-1\" type=\"checkbox\" checked><label for=\"sk-estimator-id-1\" class=\"sk-toggleable__label sk-toggleable__label-arrow\">RandomForestClassifier</label><div class=\"sk-toggleable__content\"><pre>RandomForestClassifier(random_state=42)</pre></div></div></div></div></div>"
            ]
          },
          "metadata": {},
          "execution_count": 7
        }
      ]
    },
    {
      "cell_type": "code",
      "source": [
        "from sklearn.metrics import classification_report, confusion_matrix\n",
        "\n",
        "# Make predictions\n",
        "y_pred = model.predict(X_test)\n",
        "\n",
        "# Evaluate the model\n",
        "print(classification_report(y_test, y_pred))\n",
        "print(confusion_matrix(y_test, y_pred))\n"
      ],
      "metadata": {
        "colab": {
          "base_uri": "https://localhost:8080/"
        },
        "id": "_sAftUYKDBGV",
        "outputId": "c44605e6-7209-44f1-d755-2074ac1e6d12"
      },
      "execution_count": 9,
      "outputs": [
        {
          "output_type": "stream",
          "name": "stdout",
          "text": [
            "              precision    recall  f1-score   support\n",
            "\n",
            "         0.0       1.00      1.00      1.00      5147\n",
            "         1.0       1.00      1.00      1.00      5153\n",
            "\n",
            "    accuracy                           1.00     10300\n",
            "   macro avg       1.00      1.00      1.00     10300\n",
            "weighted avg       1.00      1.00      1.00     10300\n",
            "\n",
            "[[5146    1]\n",
            " [   0 5153]]\n"
          ]
        }
      ]
    },
    {
      "cell_type": "markdown",
      "source": [],
      "metadata": {
        "id": "kgNXZOOwDVoP"
      }
    },
    {
      "cell_type": "markdown",
      "source": [],
      "metadata": {
        "id": "AIEAzb3xDXIW"
      }
    }
  ]
}